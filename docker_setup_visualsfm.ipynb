{
 "cells": [
  {
   "cell_type": "code",
   "execution_count": 3,
   "id": "28ad1470",
   "metadata": {},
   "outputs": [],
   "source": [
    "import docker"
   ]
  },
  {
   "cell_type": "code",
   "execution_count": 22,
   "id": "8411807c",
   "metadata": {},
   "outputs": [
    {
     "name": "stderr",
     "output_type": "stream",
     "text": [
      "IOPub data rate exceeded.\n",
      "The notebook server will temporarily stop sending output\n",
      "to the client in order to avoid crashing it.\n",
      "To change this limit, set the config variable\n",
      "`--NotebookApp.iopub_data_rate_limit`.\n",
      "\n",
      "Current values:\n",
      "NotebookApp.iopub_data_rate_limit=1000000.0 (bytes/sec)\n",
      "NotebookApp.rate_limit_window=3.0 (secs)\n",
      "\n"
     ]
    }
   ],
   "source": [
    "path_to_mount = '/home/liteandfog/raspi-plant/d/dataset0'\n",
    "\n",
    "destination_mount = '/root/data'\n",
    "\n",
    "mount_dict = {path_to_mount: {'bind': destination_mount, 'mode': 'rw'}}\n",
    "\n",
    "#control_cmd = f'ls {destination_mount}'\n",
    "cmd = f\"VisualSFM sfm {destination_mount} /root/data/my_result.nvm\"\n",
    "\n",
    "dclient = docker.from_env()\n",
    "print(dclient.containers.run('ryanfb/visualsfm', cmd ,detach=False, volumes=mount_dict))"
   ]
  },
  {
   "cell_type": "code",
   "execution_count": null,
   "id": "87efb16b",
   "metadata": {},
   "outputs": [],
   "source": []
  }
 ],
 "metadata": {
  "kernelspec": {
   "display_name": "raspi-plant",
   "language": "python",
   "name": "raspi-plant"
  },
  "language_info": {
   "codemirror_mode": {
    "name": "ipython",
    "version": 3
   },
   "file_extension": ".py",
   "mimetype": "text/x-python",
   "name": "python",
   "nbconvert_exporter": "python",
   "pygments_lexer": "ipython3",
   "version": "3.8.0"
  }
 },
 "nbformat": 4,
 "nbformat_minor": 5
}
